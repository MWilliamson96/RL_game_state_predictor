{
 "cells": [
  {
   "cell_type": "markdown",
   "id": "informative-exploration",
   "metadata": {},
   "source": [
    "testing carball import"
   ]
  },
  {
   "cell_type": "code",
   "execution_count": 24,
   "id": "approved-solution",
   "metadata": {},
   "outputs": [],
   "source": [
    "import carball\n",
    "import gzip\n",
    "from carball.json_parser.game import Game\n",
    "from carball.analysis.analysis_manager import AnalysisManager\n",
    "import pandas as pd"
   ]
  },
  {
   "cell_type": "code",
   "execution_count": 6,
   "id": "intended-poster",
   "metadata": {},
   "outputs": [
    {
     "name": "stderr",
     "output_type": "stream",
     "text": [
      "Replay name not found\n",
      "Dropping these columns[('game', 'is_overtime')]\n"
     ]
    }
   ],
   "source": [
    "_json = carball.decompile_replay('0ED5452F41E3368A815BF0BCB3C576D6.replay')\n",
    "# _json is a JSON game object (from decompile_replay)\n",
    "game = Game()\n",
    "game.initialize(loaded_json=_json)\n",
    "\n",
    "analysis_manager = AnalysisManager(game)\n",
    "analysis_manager.create_analysis()\n",
    "    \n",
    "# return the proto object in python\n",
    "proto_object = analysis_manager.get_protobuf_data()\n",
    "\n",
    "# return the proto object as a json object\n",
    "json_oject = analysis_manager.get_json_data()\n",
    "\n",
    "# return the pandas data frame in python\n",
    "dataframe = analysis_manager.get_data_frame()"
   ]
  },
  {
   "cell_type": "code",
   "execution_count": 25,
   "id": "hollywood-oracle",
   "metadata": {},
   "outputs": [],
   "source": [
    "pd.set_option('display.max_rows', 999)"
   ]
  },
  {
   "cell_type": "code",
   "execution_count": 34,
   "id": "wireless-sitting",
   "metadata": {},
   "outputs": [
    {
     "name": "stdout",
     "output_type": "stream",
     "text": [
      "<class 'pandas.core.frame.DataFrame'>\n",
      "Int64Index: 8066 entries, 1 to 8075\n",
      "Data columns (total 111 columns):\n",
      " #   Column                                Non-Null Count  Dtype  \n",
      "---  ------                                --------------  -----  \n",
      " 0   (woozle, ping)                        8066 non-null   int64  \n",
      " 1   (woozle, pos_x)                       8056 non-null   float64\n",
      " 2   (woozle, pos_y)                       8056 non-null   float64\n",
      " 3   (woozle, pos_z)                       8056 non-null   float64\n",
      " 4   (woozle, vel_x)                       8056 non-null   float64\n",
      " 5   (woozle, vel_y)                       8056 non-null   float64\n",
      " 6   (woozle, vel_z)                       8056 non-null   float64\n",
      " 7   (woozle, ang_vel_x)                   8056 non-null   float64\n",
      " 8   (woozle, ang_vel_y)                   8056 non-null   float64\n",
      " 9   (woozle, ang_vel_z)                   8056 non-null   float64\n",
      " 10  (woozle, throttle)                    7360 non-null   float64\n",
      " 11  (woozle, steer)                       7302 non-null   float64\n",
      " 12  (woozle, handbrake)                   6253 non-null   object \n",
      " 13  (woozle, rot_x)                       8056 non-null   float64\n",
      " 14  (woozle, rot_y)                       8056 non-null   float64\n",
      " 15  (woozle, rot_z)                       8056 non-null   float64\n",
      " 16  (woozle, ball_cam)                    7369 non-null   object \n",
      " 17  (woozle, boost)                       7906 non-null   float64\n",
      " 18  (woozle, boost_active)                8056 non-null   object \n",
      " 19  (woozle, dodge_active)                8056 non-null   object \n",
      " 20  (woozle, jump_active)                 8056 non-null   object \n",
      " 21  (woozle, double_jump_active)          8056 non-null   object \n",
      " 22  (Mizule, ping)                        8066 non-null   int64  \n",
      " 23  (Mizule, pos_x)                       7930 non-null   float64\n",
      " 24  (Mizule, pos_y)                       7930 non-null   float64\n",
      " 25  (Mizule, pos_z)                       7930 non-null   float64\n",
      " 26  (Mizule, vel_x)                       7930 non-null   float64\n",
      " 27  (Mizule, vel_y)                       7930 non-null   float64\n",
      " 28  (Mizule, vel_z)                       7930 non-null   float64\n",
      " 29  (Mizule, ang_vel_x)                   7930 non-null   float64\n",
      " 30  (Mizule, ang_vel_y)                   7930 non-null   float64\n",
      " 31  (Mizule, ang_vel_z)                   7930 non-null   float64\n",
      " 32  (Mizule, throttle)                    7420 non-null   float64\n",
      " 33  (Mizule, steer)                       7137 non-null   float64\n",
      " 34  (Mizule, handbrake)                   5813 non-null   object \n",
      " 35  (Mizule, rot_x)                       7930 non-null   float64\n",
      " 36  (Mizule, rot_y)                       7930 non-null   float64\n",
      " 37  (Mizule, rot_z)                       7930 non-null   float64\n",
      " 38  (Mizule, ball_cam)                    8047 non-null   object \n",
      " 39  (Mizule, jump_active)                 7930 non-null   object \n",
      " 40  (Mizule, double_jump_active)          7930 non-null   object \n",
      " 41  (Mizule, boost)                       7604 non-null   float64\n",
      " 42  (Mizule, boost_active)                7930 non-null   object \n",
      " 43  (Mizule, dodge_active)                7930 non-null   object \n",
      " 44  (L0RDFARQU44D, ping)                  8066 non-null   int64  \n",
      " 45  (L0RDFARQU44D, pos_x)                 8057 non-null   float64\n",
      " 46  (L0RDFARQU44D, pos_y)                 8057 non-null   float64\n",
      " 47  (L0RDFARQU44D, pos_z)                 8057 non-null   float64\n",
      " 48  (L0RDFARQU44D, vel_x)                 8057 non-null   float64\n",
      " 49  (L0RDFARQU44D, vel_y)                 8057 non-null   float64\n",
      " 50  (L0RDFARQU44D, vel_z)                 8057 non-null   float64\n",
      " 51  (L0RDFARQU44D, ang_vel_x)             8057 non-null   float64\n",
      " 52  (L0RDFARQU44D, ang_vel_y)             8057 non-null   float64\n",
      " 53  (L0RDFARQU44D, ang_vel_z)             8057 non-null   float64\n",
      " 54  (L0RDFARQU44D, throttle)              7519 non-null   float64\n",
      " 55  (L0RDFARQU44D, steer)                 7304 non-null   float64\n",
      " 56  (L0RDFARQU44D, handbrake)             3076 non-null   object \n",
      " 57  (L0RDFARQU44D, rot_x)                 8057 non-null   float64\n",
      " 58  (L0RDFARQU44D, rot_y)                 8057 non-null   float64\n",
      " 59  (L0RDFARQU44D, rot_z)                 8057 non-null   float64\n",
      " 60  (L0RDFARQU44D, ball_cam)              7887 non-null   object \n",
      " 61  (L0RDFARQU44D, jump_active)           8057 non-null   object \n",
      " 62  (L0RDFARQU44D, boost)                 8013 non-null   float64\n",
      " 63  (L0RDFARQU44D, boost_active)          8057 non-null   object \n",
      " 64  (L0RDFARQU44D, dodge_active)          8057 non-null   object \n",
      " 65  (L0RDFARQU44D, double_jump_active)    8057 non-null   object \n",
      " 66  (Thunderbug, ping)                    8066 non-null   int64  \n",
      " 67  (Thunderbug, pos_x)                   8057 non-null   float64\n",
      " 68  (Thunderbug, pos_y)                   8057 non-null   float64\n",
      " 69  (Thunderbug, pos_z)                   8057 non-null   float64\n",
      " 70  (Thunderbug, vel_x)                   8057 non-null   float64\n",
      " 71  (Thunderbug, vel_y)                   8057 non-null   float64\n",
      " 72  (Thunderbug, vel_z)                   8057 non-null   float64\n",
      " 73  (Thunderbug, ang_vel_x)               8057 non-null   float64\n",
      " 74  (Thunderbug, ang_vel_y)               8057 non-null   float64\n",
      " 75  (Thunderbug, ang_vel_z)               8057 non-null   float64\n",
      " 76  (Thunderbug, throttle)                7352 non-null   float64\n",
      " 77  (Thunderbug, steer)                   7327 non-null   float64\n",
      " 78  (Thunderbug, handbrake)               5628 non-null   object \n",
      " 79  (Thunderbug, rot_x)                   8057 non-null   float64\n",
      " 80  (Thunderbug, rot_y)                   8057 non-null   float64\n",
      " 81  (Thunderbug, rot_z)                   8057 non-null   float64\n",
      " 82  (Thunderbug, ball_cam)                7471 non-null   object \n",
      " 83  (Thunderbug, jump_active)             8057 non-null   object \n",
      " 84  (Thunderbug, boost)                   8000 non-null   float64\n",
      " 85  (Thunderbug, boost_active)            8057 non-null   object \n",
      " 86  (Thunderbug, double_jump_active)      8057 non-null   object \n",
      " 87  (Thunderbug, dodge_active)            8057 non-null   object \n",
      " 88  (ball, pos_x)                         8066 non-null   float64\n",
      " 89  (ball, pos_y)                         8066 non-null   float64\n",
      " 90  (ball, pos_z)                         8066 non-null   float64\n",
      " 91  (ball, vel_x)                         6606 non-null   float64\n",
      " 92  (ball, vel_y)                         6606 non-null   float64\n",
      " 93  (ball, vel_z)                         6606 non-null   float64\n",
      " 94  (ball, ang_vel_x)                     6606 non-null   float64\n",
      " 95  (ball, ang_vel_y)                     6606 non-null   float64\n",
      " 96  (ball, ang_vel_z)                     6606 non-null   float64\n",
      " 97  (ball, hit_team_no)                   6793 non-null   float64\n",
      " 98  (ball, rot_x)                         8066 non-null   float64\n",
      " 99  (ball, rot_y)                         8066 non-null   float64\n",
      " 100 (ball, rot_z)                         8066 non-null   float64\n",
      " 101 (game, time)                          8066 non-null   float64\n",
      " 102 (game, delta)                         8066 non-null   float64\n",
      " 103 (game, seconds_remaining)             8066 non-null   int64  \n",
      " 104 (game, replicated_seconds_remaining)  1859 non-null   float64\n",
      " 105 (game, ball_has_been_hit)             7939 non-null   object \n",
      " 106 (game, goal_number)                   6663 non-null   float64\n",
      " 107 (woozle, boost_collect)               100 non-null    float64\n",
      " 108 (Mizule, boost_collect)               105 non-null    float64\n",
      " 109 (L0RDFARQU44D, boost_collect)         82 non-null     float64\n",
      " 110 (Thunderbug, boost_collect)           79 non-null     float64\n",
      "dtypes: float64(81), int64(5), object(25)\n",
      "memory usage: 7.2+ MB\n"
     ]
    }
   ],
   "source": [
    "dataframe.info(verbose=True, null_counts=True)"
   ]
  },
  {
   "cell_type": "code",
   "execution_count": 42,
   "id": "approved-designer",
   "metadata": {},
   "outputs": [
    {
     "data": {
      "text/plain": [
       "0.0    4424\n",
       "1.0    2369\n",
       "NaN    1273\n",
       "Name: hit_team_no, dtype: int64"
      ]
     },
     "execution_count": 42,
     "metadata": {},
     "output_type": "execute_result"
    }
   ],
   "source": [
    "dataframe['ball']['hit_team_no'].value_counts(dropna=False)"
   ]
  },
  {
   "cell_type": "markdown",
   "id": "manufactured-brook",
   "metadata": {},
   "source": [
    "testing tf and numpy imports"
   ]
  },
  {
   "cell_type": "code",
   "execution_count": 20,
   "id": "jewish-sweet",
   "metadata": {},
   "outputs": [],
   "source": [
    "import tensorflow as tf\n",
    "from tensorflow.keras.layers import Dense\n",
    "from tensorflow.keras.models import Sequential\n",
    "import numpy as np"
   ]
  },
  {
   "cell_type": "code",
   "execution_count": 21,
   "id": "ultimate-ethiopia",
   "metadata": {},
   "outputs": [
    {
     "name": "stdout",
     "output_type": "stream",
     "text": [
      "Model: \"sequential\"\n",
      "_________________________________________________________________\n",
      "Layer (type)                 Output Shape              Param #   \n",
      "=================================================================\n",
      "dense (Dense)                (None, 32)                192       \n",
      "_________________________________________________________________\n",
      "dense_1 (Dense)              (None, 1)                 33        \n",
      "=================================================================\n",
      "Total params: 225\n",
      "Trainable params: 225\n",
      "Non-trainable params: 0\n",
      "_________________________________________________________________\n"
     ]
    }
   ],
   "source": [
    "x_input = np.array([[1,2,3,4,5]])\n",
    "y_input = np.array([[10]])\n",
    "\n",
    "\n",
    "model = Sequential()\n",
    "model.add(Dense(units=32, activation=\"tanh\", input_dim=x_input.shape[1], kernel_initializer='random_normal'))\n",
    "model.add(Dense(units=1, kernel_initializer='random_normal'))\n",
    "\n",
    "\n",
    "model.compile(loss='mse', optimizer='sgd', metrics=['accuracy'])\n",
    "\n",
    "\n",
    "model.summary()"
   ]
  },
  {
   "cell_type": "code",
   "execution_count": 22,
   "id": "photographic-effects",
   "metadata": {},
   "outputs": [
    {
     "name": "stdout",
     "output_type": "stream",
     "text": [
      "Epoch 1/10\n",
      "1/1 [==============================] - 0s 239ms/step - loss: 100.9689 - accuracy: 0.0000e+00\n",
      "Epoch 2/10\n",
      "1/1 [==============================] - 0s 1000us/step - loss: 76.5155 - accuracy: 0.0000e+00\n",
      "Epoch 3/10\n",
      "1/1 [==============================] - 0s 1000us/step - loss: 39.6346 - accuracy: 0.0000e+00\n",
      "Epoch 4/10\n",
      "1/1 [==============================] - 0s 1ms/step - loss: 12.0736 - accuracy: 0.0000e+00\n",
      "Epoch 5/10\n",
      "1/1 [==============================] - 0s 1ms/step - loss: 2.6717 - accuracy: 0.0000e+00\n",
      "Epoch 6/10\n",
      "1/1 [==============================] - 0s 2ms/step - loss: 0.5218 - accuracy: 0.0000e+00\n",
      "Epoch 7/10\n",
      "1/1 [==============================] - 0s 1ms/step - loss: 0.0972 - accuracy: 0.0000e+00\n",
      "Epoch 8/10\n",
      "1/1 [==============================] - 0s 1ms/step - loss: 0.0178 - accuracy: 0.0000e+00\n",
      "Epoch 9/10\n",
      "1/1 [==============================] - 0s 999us/step - loss: 0.0032 - accuracy: 0.0000e+00\n",
      "Epoch 10/10\n",
      "1/1 [==============================] - 0s 1ms/step - loss: 5.8174e-04 - accuracy: 0.0000e+00\n"
     ]
    }
   ],
   "source": [
    "history = model.fit(x_input, y_input, epochs=10, batch_size=32)"
   ]
  },
  {
   "cell_type": "code",
   "execution_count": 23,
   "id": "canadian-jersey",
   "metadata": {},
   "outputs": [
    {
     "name": "stdout",
     "output_type": "stream",
     "text": [
      "[[9.989755]]\n",
      "[[10.163519]]\n"
     ]
    }
   ],
   "source": [
    "print(model.predict(x_input, batch_size=128))\n",
    "\n",
    "print(model.predict(np.array([[1,2,5,4,5]])))"
   ]
  },
  {
   "cell_type": "markdown",
   "id": "suited-arlington",
   "metadata": {},
   "source": [
    "OK so this is working properly"
   ]
  },
  {
   "cell_type": "code",
   "execution_count": null,
   "id": "pursuant-pencil",
   "metadata": {},
   "outputs": [],
   "source": []
  }
 ],
 "metadata": {
  "kernelspec": {
   "display_name": "rl_predictor_pip_env",
   "language": "python",
   "name": "rl_predictor_pip_env"
  },
  "language_info": {
   "codemirror_mode": {
    "name": "ipython",
    "version": 3
   },
   "file_extension": ".py",
   "mimetype": "text/x-python",
   "name": "python",
   "nbconvert_exporter": "python",
   "pygments_lexer": "ipython3",
   "version": "3.8.5"
  }
 },
 "nbformat": 4,
 "nbformat_minor": 5
}
